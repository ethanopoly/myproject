{
 "cells": [
  {
   "cell_type": "code",
   "execution_count": 1,
   "metadata": {},
   "outputs": [
    {
     "name": "stdout",
     "output_type": "stream",
     "text": [
      "\n",
      "\n",
      "\n",
      "\n",
      "<!DOCTYPE html>\n",
      "<html lang=\"ko\">\n",
      "<head>\n",
      "\t<title>네이버 웹툰</title>\n",
      "\t<link rel=\"shortcut icon\" href=\"https://ssl.pstatic.net/static/m/comic/im/favicon/1804/webtoon_favicon_32x32.ico\" type=\"image/x-icon\">\n",
      "\n",
      "\t<meta charset=\"utf-8\" />\n",
      "\t<meta http-equiv=\"x-ua-compatible\" content=\"ie=edge\" />\n",
      "\t<meta property=\"og:type\" content=\"article\">\n",
      "\t<meta property=\"og:article:author\" content=\"네이버 웹툰\">\n",
      "\t<meta property=\"og:article:author:url\" content=\"https://comic.naver.com\">\n",
      "\t<meta property=\"og:title\" content=\"네이버 웹툰\">\n",
      "\t<meta property=\"og:image\" content=\"https://ssl.pstatic.net/static/comic/images/og_tag_v2.png\">\n",
      "\t<meta property=\"og:description\" content=\"매일매일 새로운 재미, 네이버 웹툰.\">\n",
      "\n",
      "\t<script>\n",
      "\t\tif (/MSIE \\d|Trident.*rv:/.test(navigator.userAgent)) {\n",
      "\t\t\twindow.location = 'microsoft-edge:' + window.location;\n",
      "\t\t\tsetTimeout(function () {\n",
      "\t\t\t\twindow.location = 'https://go.microsoft.com/fwlink/?linkid=2135547';\n",
      "\t\t\t}, 1);\n",
      "\t\t}\n",
      "\t</script>\n",
      "\t<script async src='https://ssl.pstatic.net/tveta/libs/glad/prod/gfp-core.js'></script>\n",
      "\t<script>\n",
      "\t\tvar ccsrv = 'cc.naver.com';\n",
      "\t\twindow.gladsdk = window.gladsdk || { cmd: [] };\n",
      "\t</script>\n",
      "\n",
      "</head>\n",
      "\n",
      "<body>\n",
      "<div id=\"root\"></div>\n",
      "</body>\n",
      "<script type=\"text/javascript\" src=\"/runtime-e4eddc65f9689acf7181.js\"></script>\n",
      "<script type=\"text/javascript\" src=\"/vendor-react-d37d9c657a271200d9cf.js\"></script>\n",
      "<script type=\"text/javascript\" src=\"/vendor-react-common-39f644b98f3af612d766.js\"></script>\n",
      "<script type=\"text/javascript\" src=\"/vendor-common-4c04532899aecf03d14c.js\"></script>\n",
      "<script type=\"text/javascript\" src=\"/vendor-log-feb99cf7b041c7e3b64d.js\"></script>\n",
      "<script type=\"text/javascript\" src=\"/router-99a400e9d215c0b15950.js\"></script>\n",
      "</html>\n",
      "\n",
      "\n"
     ]
    }
   ],
   "source": [
    "import requests\n",
    "web = requests.get(\"https://comic.naver.com/webtoon?tab=mon\")\n",
    "\n",
    "if web.status_code == 200:\n",
    "    print(web.text)"
   ]
  },
  {
   "cell_type": "code",
   "execution_count": 16,
   "metadata": {},
   "outputs": [
    {
     "name": "stderr",
     "output_type": "stream",
     "text": [
      "WARNING:root:Can not find chromedriver for currently installed chrome version.\n"
     ]
    }
   ],
   "source": [
    "from selenium import webdriver\n",
    "from chromedriver_autoinstaller import install\n",
    "ca = install()\n",
    "driver = webdriver.Chrome()\n",
    "driver.implicitly_wait(10)\n",
    "driver.get(\"https://comic.naver.com/webtoon?tab=mon\")"
   ]
  },
  {
   "cell_type": "code",
   "execution_count": 17,
   "metadata": {},
   "outputs": [],
   "source": [
    "from selenium.webdriver.common.by import By"
   ]
  },
  {
   "cell_type": "code",
   "execution_count": 26,
   "metadata": {},
   "outputs": [],
   "source": [
    "def image_download(path, link):\n",
    "    data = {\"User-Agent\":\"Mozilla/5.0 (Windows NT 10.0; Win64; x64) AppleWebKit/537.36 (KHTML, like Gecko) Chrome/119.0.0.0 Safari/537.36\"}\n",
    "    img = requests.get(link, headers=data)\n",
    "    with open(path, 'wb') as w:\n",
    "        w.write(img.content)"
   ]
  },
  {
   "cell_type": "code",
   "execution_count": 28,
   "metadata": {},
   "outputs": [
    {
     "data": {
      "application/vnd.jupyter.widget-view+json": {
       "model_id": "7bcab0d9b77b4ac5bb073bebe4210408",
       "version_major": 2,
       "version_minor": 0
      },
      "text/plain": [
       "  0%|          | 0/93 [00:00<?, ?it/s]"
      ]
     },
     "metadata": {},
     "output_type": "display_data"
    },
    {
     "data": {
      "application/vnd.jupyter.widget-view+json": {
       "model_id": "b26ddd5081444e1ebb1ab9b4dade1744",
       "version_major": 2,
       "version_minor": 0
      },
      "text/plain": [
       "  0%|          | 0/93 [00:00<?, ?it/s]"
      ]
     },
     "metadata": {},
     "output_type": "display_data"
    }
   ],
   "source": [
    "from threading import Thread\n",
    "from tqdm.notebook import tqdm\n",
    "thr = []\n",
    "driver.implicitly_wait(1)\n",
    "items = driver.find_elements(By.CSS_SELECTOR, \"ul > li.item\")\n",
    "for item in tqdm(items):\n",
    "    try:\n",
    "        image = item.find_element(By.TAG_NAME, \"img\")\n",
    "        title = item.find_element(By.CSS_SELECTOR, 'a > span > span.text')\n",
    "        path = f\"./images/{title.text}.jpg\"\n",
    "        link = image.get_attribute('src')\n",
    "        thr.append(Thread(target=image_download, args=(path, link)))\n",
    "        # image_download(path, link)\n",
    "        # print(title.text, link)\n",
    "    except Exception:\n",
    "        pass\n",
    "for t in thr:\n",
    "    t.start()\n",
    "for t in tqdm(thr):\n",
    "    t.join()"
   ]
  },
  {
   "cell_type": "code",
   "execution_count": 45,
   "metadata": {},
   "outputs": [
    {
     "name": "stdout",
     "output_type": "stream",
     "text": [
      "[9.82, 9.81, 9.88, 9.85, 9.73, 9.83, 9.93, 9.92, 9.96, 9.91, 9.87, 9.97, 9.96, 9.95, 9.58, 9.94, 9.86, 9.91, 9.95, 9.54, 9.97, 9.96, 9.96, 9.96, 9.97, 9.93, 9.93, 9.92, 9.58, 9.95, 9.73, 9.97, 9.68, 9.91, 9.97, 9.95, 9.97, 9.92, 9.88, 9.92, 9.96, 9.91, 9.87, 9.85, 9.94, 9.97, 9.97, 9.96, 9.64, 9.97, 9.87, 9.96, 9.77, 9.92, 9.95, 9.84, 9.87, 9.96, 9.96, 9.92, 9.86, 9.95, 9.55, 9.96, 9.06, 9.95, 9.84, 9.95, 9.95, 9.94, 9.94, 9.84, 9.94, 9.93, 9.9, 9.79, 9.93, 9.86, 9.88, 9.95, 9.96, 9.95, 9.8, 9.9, 9.97, 9.96, 9.76, 7.37, 9.72, 9.85, 9.84, 9.93, 9.85]\n"
     ]
    }
   ],
   "source": [
    "items = driver.find_elements(By.CSS_SELECTOR, \"ul > li.item > div > div > span > span.text\")\n",
    "print(list(map(float, [item.text for item in items])))"
   ]
  },
  {
   "cell_type": "code",
   "execution_count": 25,
   "metadata": {},
   "outputs": [
    {
     "data": {
      "text/plain": [
       "b'\\n<!DOCTYPE HTML PUBLIC \"-//W3C//DTD HTML 3.2 Final//EN\">\\n\\n<html>\\n\\n<head>\\n\\n<style>\\n\\na:link\\t\\t\\t{font:8pt/11pt verdana; color:red}\\n\\na:visited\\t\\t{font:8pt/11pt verdana; color:#4e4e4e}\\n\\n</style>\\n\\n<title>HTTP 403 Forbidden</title>\\n\\n</head>\\n\\n<script>\\n \\nfunction Homepage(){\\n\\n// in real bits, urls get returned to our script like this:\\n\\n// res://shdocvw.dll/http_404.htm#http://www.DocURL.com/bar.htm \\n\\n\\n\\n\\tDocURL = document.location.href;\\n\\n\\t\\t\\n\\n\\t//this is where the http or https will be, as found by searching for :// but skipping the res://\\n\\n\\tprotocolIndex=DocURL.indexOf(\"://\",4);\\n\\n\\t\\n\\n\\t//this finds the ending slash for the domain server \\n\\n\\tserverIndex=DocURL.indexOf(\"/\",protocolIndex + 3);\\n\\n\\n\\n\\t\\t//for the href, we need a valid URL to the domain. We search for the # symbol to find the begining \\n\\n\\t//of the true URL, and add 1 to skip it - this is the BeginURL value. We use serverIndex as the end marker.\\n\\n\\t//urlresult=DocURL.substring(protocolIndex - 4,serverIndex);\\n\\n\\tBeginURL=DocURL.indexOf(\"#\",1) + 1;\\n\\n\\tif (protocolIndex - BeginURL > 7)\\n\\n\\t\\turlresult=\"\"\\n\\n\\t\\n\\n\\turlresult=DocURL.substring(BeginURL,serverIndex);\\n\\n\\n\\n\\t//for display, we need to skip after http://, and go to the next slash\\n\\n\\tdisplayresult=DocURL.substring(protocolIndex + 3 ,serverIndex);\\n\\n\\n\\n\\t// Security precaution: must filter out \"urlResult\" and \"displayresult\"\\n\\n\\tforbiddenChars = new RegExp(\"[<>\\'\\\\\"]\", \"g\");\\t// Global search/replace\\n\\n\\turlresult = urlresult.replace(forbiddenChars, \"\");\\n\\n\\t    displayresult = displayresult.replace(forbiddenChars, \"\");\\n\\n    \\n\\n\\tdocument.write(\\'<A target=_top HREF=\"\\' + urlresult + \\'\">\\' + displayresult + \"</a>\");\\n\\n\\n\\n}\\n\\n</script>\\n\\n\\n\\n<body bgcolor=\"white\">\\n\\n<table width=\"400\" cellpadding=\"3\" cellspacing=\"5\">\\n\\n  <tr>\\n\\n    <td id=\"tableProps\" valign=\"center\" align=\"left\" bgcolor=red>\\n\\n    &nbsp; &nbsp; &nbsp; &nbsp;\\n\\n    </td>\\n\\n    <td id=\"tableProps2\" align=\"left\" valign=\"middle\" width=\"360\"><font id=\"errortype\"\\n\\n    style=\"COLOR: black; FONT: 13pt/15pt verdana\">The page cannot be displayed</font>\\n\\n    </td>\\n\\n  </tr>\\n\\n  <tr>\\n\\n    <td id=\"tablePropsWidth\" width=\"400\" colspan=\"2\"><font\\n\\n    style=\"COLOR: black; FONT: 8pt/11pt verdana\">\\n\\n    Access control configuration prevents your request from being allowed\\n\\n    at this time.\\n\\n    </font></td>\\n\\n  </tr>\\n\\n  <tr>\\n\\n    <td id=\"tablePropsWidth2\" width=\"400\" colspan=\"2\"><font id=\"LID1\"\\n\\n    style=\"COLOR: black; FONT: 8pt/11pt verdana\"><hr color=\"#C0C0C0\" noshade>\\n\\n    <p id=\"LID2\">Please try the following:</p><ul>\\n\\n      <li id=\"list1\">If you typed the page address manually, make sure that it is\\n\\n        typed correctly.<br>\\n\\n      </li>\\n\\n      <li id=\"list2\">Open the <script> Homepage(); </script> home page, and then look for links to the information\\n\\n        you want. </li>\\n\\n      <li id=\"list3\">If you are using Internet Explorer, click <a onclick=\"saOC.NavigateToDefaultSearch();event.returnValue=false\" href=\"\"> search </a> to find more information. </li>\\n\\n      <li id=\"list4\">Click the <a href=\"javascript:history.back(1)\">\\n\\n      Back</a> button to try another link. </li>    \\n\\n      <li id=\"list5\">If you feel this is incorrect, contact your service provider. </li>\\n\\n</ul>\\n\\n    <p><br>\\n\\n    </p>\\n\\n    <h2 id=\"ietext\" style=\"font:8pt/11pt verdana; color:black\">HTTP 403 - Forbidden <br>\\n\\n    jaguar     <BR>\\n\\n    </h2>\\n\\n    </font></td>\\n\\n\\n\\n  </tr>\\n\\n</table>\\n\\n</body>\\n\\n</html>\\n\\n'"
      ]
     },
     "execution_count": 25,
     "metadata": {},
     "output_type": "execute_result"
    }
   ],
   "source": [
    "r = requests.get(\"https://image-comic.pstatic.net/webtoon/783050/thumbnail/thumbnail_IMAG21_ca9a662b-7a79-4e80-94c9-d62ebe597aad.jpg\")\n",
    "r.content"
   ]
  },
  {
   "cell_type": "code",
   "execution_count": null,
   "metadata": {},
   "outputs": [],
   "source": []
  }
 ],
 "metadata": {
  "kernelspec": {
   "display_name": "Python 3",
   "language": "python",
   "name": "python3"
  },
  "language_info": {
   "codemirror_mode": {
    "name": "ipython",
    "version": 3
   },
   "file_extension": ".py",
   "mimetype": "text/x-python",
   "name": "python",
   "nbconvert_exporter": "python",
   "pygments_lexer": "ipython3",
   "version": "3.10.9"
  }
 },
 "nbformat": 4,
 "nbformat_minor": 2
}
