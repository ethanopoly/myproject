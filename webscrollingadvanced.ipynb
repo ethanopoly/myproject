{
 "cells": [
  {
   "cell_type": "code",
   "execution_count": 1,
   "metadata": {},
   "outputs": [
    {
     "name": "stdout",
     "output_type": "stream",
     "text": [
      "Requirement already satisfied: selenium in c:\\users\\d225\\appdata\\local\\programs\\python\\python310\\lib\\site-packages (4.12.0)\n",
      "Requirement already satisfied: urllib3<3,>=1.26 in c:\\users\\d225\\appdata\\local\\programs\\python\\python310\\lib\\site-packages (from urllib3[socks]<3,>=1.26->selenium) (2.0.4)\n",
      "Requirement already satisfied: trio~=0.17 in c:\\users\\d225\\appdata\\local\\programs\\python\\python310\\lib\\site-packages (from selenium) (0.22.2)\n",
      "Requirement already satisfied: trio-websocket~=0.9 in c:\\users\\d225\\appdata\\local\\programs\\python\\python310\\lib\\site-packages (from selenium) (0.10.4)\n",
      "Requirement already satisfied: certifi>=2021.10.8 in c:\\users\\d225\\appdata\\local\\programs\\python\\python310\\lib\\site-packages (from selenium) (2023.7.22)\n",
      "Requirement already satisfied: attrs>=20.1.0 in c:\\users\\d225\\appdata\\local\\programs\\python\\python310\\lib\\site-packages (from trio~=0.17->selenium) (23.1.0)\n",
      "Requirement already satisfied: sortedcontainers in c:\\users\\d225\\appdata\\local\\programs\\python\\python310\\lib\\site-packages (from trio~=0.17->selenium) (2.4.0)\n",
      "Requirement already satisfied: idna in c:\\users\\d225\\appdata\\local\\programs\\python\\python310\\lib\\site-packages (from trio~=0.17->selenium) (3.4)\n",
      "Requirement already satisfied: outcome in c:\\users\\d225\\appdata\\local\\programs\\python\\python310\\lib\\site-packages (from trio~=0.17->selenium) (1.2.0)\n",
      "Requirement already satisfied: sniffio in c:\\users\\d225\\appdata\\local\\programs\\python\\python310\\lib\\site-packages (from trio~=0.17->selenium) (1.3.0)\n",
      "Requirement already satisfied: cffi>=1.14 in c:\\users\\d225\\appdata\\local\\programs\\python\\python310\\lib\\site-packages (from trio~=0.17->selenium) (1.15.1)\n",
      "Requirement already satisfied: exceptiongroup>=1.0.0rc9 in c:\\users\\d225\\appdata\\local\\programs\\python\\python310\\lib\\site-packages (from trio~=0.17->selenium) (1.1.3)\n",
      "Requirement already satisfied: wsproto>=0.14 in c:\\users\\d225\\appdata\\local\\programs\\python\\python310\\lib\\site-packages (from trio-websocket~=0.9->selenium) (1.2.0)\n",
      "Requirement already satisfied: pysocks!=1.5.7,<2.0,>=1.5.6 in c:\\users\\d225\\appdata\\local\\programs\\python\\python310\\lib\\site-packages (from urllib3[socks]<3,>=1.26->selenium) (1.7.1)\n",
      "Requirement already satisfied: pycparser in c:\\users\\d225\\appdata\\local\\programs\\python\\python310\\lib\\site-packages (from cffi>=1.14->trio~=0.17->selenium) (2.21)\n",
      "Requirement already satisfied: h11<1,>=0.9.0 in c:\\users\\d225\\appdata\\local\\programs\\python\\python310\\lib\\site-packages (from wsproto>=0.14->trio-websocket~=0.9->selenium) (0.14.0)\n",
      "Note: you may need to restart the kernel to use updated packages.\n"
     ]
    }
   ],
   "source": [
    "%pip install selenium\n"
   ]
  },
  {
   "cell_type": "code",
   "execution_count": 2,
   "metadata": {},
   "outputs": [],
   "source": [
    "from selenium import webdriver\n",
    "from selenium.webdriver.common.by import By"
   ]
  },
  {
   "cell_type": "code",
   "execution_count": 7,
   "metadata": {},
   "outputs": [
    {
     "name": "stderr",
     "output_type": "stream",
     "text": [
      "WARNING:root:Can not find chromedriver for currently installed chrome version.\n"
     ]
    },
    {
     "name": "stdout",
     "output_type": "stream",
     "text": [
      "Requirement already satisfied: chromedriver_autoinstaller in c:\\users\\d225\\appdata\\local\\programs\\python\\python310\\lib\\site-packages (0.6.2)Note: you may need to restart the kernel to use updated packages.\n",
      "\n",
      "None\n"
     ]
    }
   ],
   "source": [
    "%pip install chromedriver_autoinstaller\n",
    "import chromedriver_autoinstaller as ca\n",
    "version = ca.install()\n",
    "print(version)\n",
    "driver = webdriver.Chrome()\n",
    "url = \"https://www.youtube.com\"\n",
    "driver.implicitly_wait(10)\n",
    "driver.get(url)"
   ]
  },
  {
   "cell_type": "code",
   "execution_count": 8,
   "metadata": {},
   "outputs": [],
   "source": [
    "from selenium.webdriver.common.keys import Keys\n",
    "import time\n",
    "keyword = \"(여자)아이들\"\n",
    "url = f\"https://www.youtube.com/results?search_query={keyword}\"\n",
    "driver.get(url)\n"
   ]
  },
  {
   "cell_type": "code",
   "execution_count": 12,
   "metadata": {},
   "outputs": [],
   "source": [
    "contents = driver.find_elements(By.CSS_SELECTOR, \"#contents > ytd-channel-renderer\")\n",
    "for content in contents:\n",
    "    link_element = content.find_element(By.ID, \"main-link\")\n",
    "    link = link_element.get_attribute(\"href\")\n",
    "    driver.get(link)"
   ]
  },
  {
   "cell_type": "code",
   "execution_count": 20,
   "metadata": {},
   "outputs": [
    {
     "name": "stdout",
     "output_type": "stream",
     "text": [
      "64051\n",
      "64051\n",
      "64051\n",
      "64051\n",
      "64051\n",
      "64051\n",
      "64051\n",
      "64051\n",
      "64051\n"
     ]
    }
   ],
   "source": [
    " driver.find_element(\n",
    "            By.XPATH, '//*[@id=\"tabsContent\"]/yt-tab-group-shape/div[1]/yt-tab-shape[2]').click() \n",
    "body = driver.find_element(By.TAG_NAME, \"body\")\n",
    "size = driver.find_element(By.XPATH, '/html/body/ytd-app')\n",
    "foresize = 0\n",
    "fail_count = 0\n",
    "driver.implicitly_wait(1)\n",
    "while True:\n",
    "    body.send_keys(Keys.END)\n",
    "    time.sleep(0.1)\n",
    "  \n",
    "    body_size = size.size['height']\n",
    "    print(body_size)\n",
    "    if body_size == foresize:\n",
    "        fail_count += 1\n",
    "    else:\n",
    "        fail_count = 0\n",
    "        \n",
    "    if fail_count >= 8:\n",
    "        break\n",
    "    foresize = body_size\n",
    "driver.implicitly_wait(10)"
   ]
  },
  {
   "cell_type": "code",
   "execution_count": 29,
   "metadata": {},
   "outputs": [
    {
     "data": {
      "application/vnd.jupyter.widget-view+json": {
       "model_id": "972558ac28614103a2941e3d760176c6",
       "version_major": 2,
       "version_minor": 0
      },
      "text/plain": [
       "  0%|          | 0/441 [00:00<?, ?it/s]"
      ]
     },
     "metadata": {},
     "output_type": "display_data"
    }
   ],
   "source": [
    "# %pip install tqdm\n",
    "from tqdm.notebook import tqdm\n",
    "contents = driver.find_elements(By.XPATH, '//*[@id=\"content\"]/ytd-rich-grid-media')\n",
    "save_content = []\n",
    "rc = tqdm(contents)\n",
    "for content in rc:\n",
    "    link_element = content.find_element(By.ID, \"video-title-link\")\n",
    "    \n",
    "    title = link_element.text\n",
    "    link = link_element.get_attribute(\"href\")\n",
    "    rc.set_postfix_str(title[:20] + '...')\n",
    "    save_content.append(dict(title=title, link=link))\n"
   ]
  },
  {
   "cell_type": "code",
   "execution_count": 32,
   "metadata": {},
   "outputs": [
    {
     "name": "stdout",
     "output_type": "stream",
     "text": [
      "Collecting pandas\n",
      "  Downloading pandas-2.1.2-cp310-cp310-win_amd64.whl.metadata (18 kB)\n",
      "Requirement already satisfied: numpy<2,>=1.22.4 in c:\\users\\d225\\appdata\\local\\programs\\python\\python310\\lib\\site-packages (from pandas) (1.26.0)\n",
      "Requirement already satisfied: python-dateutil>=2.8.2 in c:\\users\\d225\\appdata\\local\\programs\\python\\python310\\lib\\site-packages (from pandas) (2.8.2)\n",
      "Collecting pytz>=2020.1 (from pandas)\n",
      "  Downloading pytz-2023.3.post1-py2.py3-none-any.whl.metadata (22 kB)\n",
      "Collecting tzdata>=2022.1 (from pandas)\n",
      "  Downloading tzdata-2023.3-py2.py3-none-any.whl (341 kB)\n",
      "     ---------------------------------------- 0.0/341.8 kB ? eta -:--:--\n",
      "     --------------------- ---------------- 194.6/341.8 kB 4.0 MB/s eta 0:00:01\n",
      "     ------------------------------- ------ 286.7/341.8 kB 3.5 MB/s eta 0:00:01\n",
      "     -------------------------------------  337.9/341.8 kB 2.3 MB/s eta 0:00:01\n",
      "     -------------------------------------- 341.8/341.8 kB 2.1 MB/s eta 0:00:00\n",
      "Requirement already satisfied: six>=1.5 in c:\\users\\d225\\appdata\\local\\programs\\python\\python310\\lib\\site-packages (from python-dateutil>=2.8.2->pandas) (1.16.0)\n",
      "Downloading pandas-2.1.2-cp310-cp310-win_amd64.whl (10.7 MB)\n",
      "   ---------------------------------------- 0.0/10.7 MB ? eta -:--:--\n",
      "    --------------------------------------- 0.2/10.7 MB 6.9 MB/s eta 0:00:02\n",
      "   - -------------------------------------- 0.4/10.7 MB 4.6 MB/s eta 0:00:03\n",
      "   -- ------------------------------------- 0.6/10.7 MB 4.4 MB/s eta 0:00:03\n",
      "   -- ------------------------------------- 0.8/10.7 MB 4.5 MB/s eta 0:00:03\n",
      "   --- ------------------------------------ 0.8/10.7 MB 3.4 MB/s eta 0:00:03\n",
      "   --- ------------------------------------ 0.9/10.7 MB 3.3 MB/s eta 0:00:03\n",
      "   --- ------------------------------------ 1.0/10.7 MB 3.2 MB/s eta 0:00:04\n",
      "   ---- ----------------------------------- 1.2/10.7 MB 3.3 MB/s eta 0:00:03\n",
      "   ----- ---------------------------------- 1.4/10.7 MB 3.4 MB/s eta 0:00:03\n",
      "   ------ --------------------------------- 1.6/10.7 MB 3.5 MB/s eta 0:00:03\n",
      "   ------- -------------------------------- 1.9/10.7 MB 3.7 MB/s eta 0:00:03\n",
      "   ------- -------------------------------- 1.9/10.7 MB 3.7 MB/s eta 0:00:03\n",
      "   ------- -------------------------------- 1.9/10.7 MB 3.7 MB/s eta 0:00:03\n",
      "   ------- -------------------------------- 2.0/10.7 MB 3.1 MB/s eta 0:00:03\n",
      "   -------- ------------------------------- 2.2/10.7 MB 3.2 MB/s eta 0:00:03\n",
      "   -------- ------------------------------- 2.3/10.7 MB 3.0 MB/s eta 0:00:03\n",
      "   -------- ------------------------------- 2.4/10.7 MB 3.0 MB/s eta 0:00:03\n",
      "   --------- ------------------------------ 2.5/10.7 MB 3.1 MB/s eta 0:00:03\n",
      "   --------- ------------------------------ 2.5/10.7 MB 3.1 MB/s eta 0:00:03\n",
      "   ---------- ----------------------------- 2.8/10.7 MB 3.0 MB/s eta 0:00:03\n",
      "   ---------- ----------------------------- 2.9/10.7 MB 3.0 MB/s eta 0:00:03\n",
      "   ----------- ---------------------------- 3.1/10.7 MB 3.0 MB/s eta 0:00:03\n",
      "   ------------ --------------------------- 3.2/10.7 MB 3.0 MB/s eta 0:00:03\n",
      "   ------------- -------------------------- 3.5/10.7 MB 3.2 MB/s eta 0:00:03\n",
      "   ------------- -------------------------- 3.7/10.7 MB 3.2 MB/s eta 0:00:03\n",
      "   -------------- ------------------------- 3.9/10.7 MB 3.2 MB/s eta 0:00:03\n",
      "   -------------- ------------------------- 3.9/10.7 MB 3.2 MB/s eta 0:00:03\n",
      "   --------------- ------------------------ 4.1/10.7 MB 3.1 MB/s eta 0:00:03\n",
      "   ---------------- ----------------------- 4.3/10.7 MB 3.2 MB/s eta 0:00:02\n",
      "   ---------------- ----------------------- 4.5/10.7 MB 3.2 MB/s eta 0:00:02\n",
      "   ------------------ --------------------- 4.9/10.7 MB 3.3 MB/s eta 0:00:02\n",
      "   ------------------ --------------------- 5.1/10.7 MB 3.4 MB/s eta 0:00:02\n",
      "   -------------------- ------------------- 5.4/10.7 MB 3.5 MB/s eta 0:00:02\n",
      "   --------------------- ------------------ 5.6/10.7 MB 3.5 MB/s eta 0:00:02\n",
      "   ---------------------- ----------------- 5.9/10.7 MB 3.6 MB/s eta 0:00:02\n",
      "   ----------------------- ---------------- 6.2/10.7 MB 3.7 MB/s eta 0:00:02\n",
      "   ----------------------- ---------------- 6.3/10.7 MB 3.6 MB/s eta 0:00:02\n",
      "   ------------------------ --------------- 6.6/10.7 MB 3.7 MB/s eta 0:00:02\n",
      "   ------------------------- -------------- 6.8/10.7 MB 3.7 MB/s eta 0:00:02\n",
      "   ------------------------- -------------- 6.8/10.7 MB 3.7 MB/s eta 0:00:02\n",
      "   ------------------------- -------------- 6.9/10.7 MB 3.7 MB/s eta 0:00:02\n",
      "   -------------------------- ------------- 7.0/10.7 MB 3.6 MB/s eta 0:00:02\n",
      "   -------------------------- ------------- 7.2/10.7 MB 3.6 MB/s eta 0:00:01\n",
      "   --------------------------- ------------ 7.4/10.7 MB 3.6 MB/s eta 0:00:01\n",
      "   --------------------------- ------------ 7.5/10.7 MB 3.6 MB/s eta 0:00:01\n",
      "   ----------------------------- ---------- 7.8/10.7 MB 3.6 MB/s eta 0:00:01\n",
      "   ----------------------------- ---------- 7.9/10.7 MB 3.6 MB/s eta 0:00:01\n",
      "   ------------------------------ --------- 8.2/10.7 MB 3.6 MB/s eta 0:00:01\n",
      "   ------------------------------ --------- 8.2/10.7 MB 3.6 MB/s eta 0:00:01\n",
      "   ------------------------------- -------- 8.4/10.7 MB 3.6 MB/s eta 0:00:01\n",
      "   -------------------------------- ------- 8.6/10.7 MB 3.6 MB/s eta 0:00:01\n",
      "   -------------------------------- ------- 8.8/10.7 MB 3.6 MB/s eta 0:00:01\n",
      "   --------------------------------- ------ 9.0/10.7 MB 3.6 MB/s eta 0:00:01\n",
      "   ---------------------------------- ----- 9.2/10.7 MB 3.6 MB/s eta 0:00:01\n",
      "   ---------------------------------- ----- 9.3/10.7 MB 3.6 MB/s eta 0:00:01\n",
      "   ----------------------------------- ---- 9.5/10.7 MB 3.6 MB/s eta 0:00:01\n",
      "   ------------------------------------ --- 9.7/10.7 MB 3.6 MB/s eta 0:00:01\n",
      "   ------------------------------------ --- 9.7/10.7 MB 3.6 MB/s eta 0:00:01\n",
      "   ------------------------------------ --- 9.9/10.7 MB 3.5 MB/s eta 0:00:01\n",
      "   ------------------------------------- -- 9.9/10.7 MB 3.5 MB/s eta 0:00:01\n",
      "   ------------------------------------- -- 10.0/10.7 MB 3.5 MB/s eta 0:00:01\n",
      "   ------------------------------------- -- 10.2/10.7 MB 3.5 MB/s eta 0:00:01\n",
      "   -------------------------------------- - 10.3/10.7 MB 3.4 MB/s eta 0:00:01\n",
      "   -------------------------------------- - 10.3/10.7 MB 3.4 MB/s eta 0:00:01\n",
      "   ---------------------------------------  10.5/10.7 MB 3.4 MB/s eta 0:00:01\n",
      "   ---------------------------------------  10.5/10.7 MB 3.4 MB/s eta 0:00:01\n",
      "   ---------------------------------------  10.7/10.7 MB 3.4 MB/s eta 0:00:01\n",
      "   ---------------------------------------- 10.7/10.7 MB 3.3 MB/s eta 0:00:00\n",
      "Downloading pytz-2023.3.post1-py2.py3-none-any.whl (502 kB)\n",
      "   ---------------------------------------- 0.0/502.5 kB ? eta -:--:--\n",
      "   -------- ------------------------------- 112.6/502.5 kB 6.4 MB/s eta 0:00:01\n",
      "   ---------------------- ----------------- 276.5/502.5 kB 3.4 MB/s eta 0:00:01\n",
      "   ------------------------------------- -- 471.0/502.5 kB 3.3 MB/s eta 0:00:01\n",
      "   ---------------------------------------- 502.5/502.5 kB 3.1 MB/s eta 0:00:00\n",
      "Installing collected packages: pytz, tzdata, pandas\n",
      "Successfully installed pandas-2.1.2 pytz-2023.3.post1 tzdata-2023.3\n",
      "Note: you may need to restart the kernel to use updated packages.\n"
     ]
    }
   ],
   "source": [
    "%pip install pandas\n",
    "import pandas as pd"
   ]
  },
  {
   "cell_type": "code",
   "execution_count": 38,
   "metadata": {},
   "outputs": [],
   "source": [
    "import json\n",
    "f = open(\"save.json\", 'w', encoding='utf-8')\n",
    "json.dump(save_content, f, ensure_ascii=False)\n",
    "f.close()"
   ]
  },
  {
   "cell_type": "code",
   "execution_count": 39,
   "metadata": {},
   "outputs": [
    {
     "data": {
      "text/html": [
       "<div>\n",
       "<style scoped>\n",
       "    .dataframe tbody tr th:only-of-type {\n",
       "        vertical-align: middle;\n",
       "    }\n",
       "\n",
       "    .dataframe tbody tr th {\n",
       "        vertical-align: top;\n",
       "    }\n",
       "\n",
       "    .dataframe thead th {\n",
       "        text-align: right;\n",
       "    }\n",
       "</style>\n",
       "<table border=\"1\" class=\"dataframe\">\n",
       "  <thead>\n",
       "    <tr style=\"text-align: right;\">\n",
       "      <th></th>\n",
       "      <th>title</th>\n",
       "      <th>link</th>\n",
       "    </tr>\n",
       "  </thead>\n",
       "  <tbody>\n",
       "    <tr>\n",
       "      <th>0</th>\n",
       "      <td>[#HASHTALK] EP.26 글로벌 앰버서더 미연의 나들이 😎 (ENG/CHN)...</td>\n",
       "      <td>https://www.youtube.com/watch?v=-RORM6aWoJw</td>\n",
       "    </tr>\n",
       "    <tr>\n",
       "      <th>1</th>\n",
       "      <td>(여자)아이들((G)I-DLE) - 2023 (G)I-DLE WORLD TOUR [...</td>\n",
       "      <td>https://www.youtube.com/watch?v=IQdDn_ktGww</td>\n",
       "    </tr>\n",
       "    <tr>\n",
       "      <th>2</th>\n",
       "      <td>💖 HAPPY MINNIE DAY 💖 (Feat. 퍼스널 컬러 &amp; 인생네컷 프레임 ...</td>\n",
       "      <td>https://www.youtube.com/watch?v=5RSIJdz9x_w</td>\n",
       "    </tr>\n",
       "    <tr>\n",
       "      <th>3</th>\n",
       "      <td>(여자)아이들((G)I-DLE) - 2023 (G)I-DLE WORLD TOUR [...</td>\n",
       "      <td>https://www.youtube.com/watch?v=2WZY9gRJfrw</td>\n",
       "    </tr>\n",
       "    <tr>\n",
       "      <th>4</th>\n",
       "      <td>(여자)아이들((G)I-DLE) - I-TALK #137 : 'I Want That...</td>\n",
       "      <td>https://www.youtube.com/watch?v=PnJBs44SpMo</td>\n",
       "    </tr>\n",
       "    <tr>\n",
       "      <th>...</th>\n",
       "      <td>...</td>\n",
       "      <td>...</td>\n",
       "    </tr>\n",
       "    <tr>\n",
       "      <th>436</th>\n",
       "      <td>(여자)아이들((G)I-DLE) - 'LATATA' : 소연(SOYEON) Teaser</td>\n",
       "      <td>https://www.youtube.com/watch?v=pOOwt28gZYA</td>\n",
       "    </tr>\n",
       "    <tr>\n",
       "      <th>437</th>\n",
       "      <td>(여자)아이들((G)I-DLE) - 'LATATA' : 수진(SOOJIN) Teaser</td>\n",
       "      <td>https://www.youtube.com/watch?v=3w4ljZZ0iIA</td>\n",
       "    </tr>\n",
       "    <tr>\n",
       "      <th>438</th>\n",
       "      <td>(여자)아이들((G)I-DLE) - 'LATATA' : 민니(MINNIE) Teaser</td>\n",
       "      <td>https://www.youtube.com/watch?v=Qw6Z4BbNbMc</td>\n",
       "    </tr>\n",
       "    <tr>\n",
       "      <th>439</th>\n",
       "      <td>(여자)아이들((G)I-DLE) - 'LATATA' : 미연(MIYEON) Teaser</td>\n",
       "      <td>https://www.youtube.com/watch?v=5wn5ponH2XI</td>\n",
       "    </tr>\n",
       "    <tr>\n",
       "      <th>440</th>\n",
       "      <td>(여자)아이들((G)I-DLE) - 1st mini album \"I am\" Audi...</td>\n",
       "      <td>https://www.youtube.com/watch?v=r-B4WCuI78c</td>\n",
       "    </tr>\n",
       "  </tbody>\n",
       "</table>\n",
       "<p>441 rows × 2 columns</p>\n",
       "</div>"
      ],
      "text/plain": [
       "                                                 title  \\\n",
       "0    [#HASHTALK] EP.26 글로벌 앰버서더 미연의 나들이 😎 (ENG/CHN)...   \n",
       "1    (여자)아이들((G)I-DLE) - 2023 (G)I-DLE WORLD TOUR [...   \n",
       "2    💖 HAPPY MINNIE DAY 💖 (Feat. 퍼스널 컬러 & 인생네컷 프레임 ...   \n",
       "3    (여자)아이들((G)I-DLE) - 2023 (G)I-DLE WORLD TOUR [...   \n",
       "4    (여자)아이들((G)I-DLE) - I-TALK #137 : 'I Want That...   \n",
       "..                                                 ...   \n",
       "436   (여자)아이들((G)I-DLE) - 'LATATA' : 소연(SOYEON) Teaser   \n",
       "437   (여자)아이들((G)I-DLE) - 'LATATA' : 수진(SOOJIN) Teaser   \n",
       "438   (여자)아이들((G)I-DLE) - 'LATATA' : 민니(MINNIE) Teaser   \n",
       "439   (여자)아이들((G)I-DLE) - 'LATATA' : 미연(MIYEON) Teaser   \n",
       "440  (여자)아이들((G)I-DLE) - 1st mini album \"I am\" Audi...   \n",
       "\n",
       "                                            link  \n",
       "0    https://www.youtube.com/watch?v=-RORM6aWoJw  \n",
       "1    https://www.youtube.com/watch?v=IQdDn_ktGww  \n",
       "2    https://www.youtube.com/watch?v=5RSIJdz9x_w  \n",
       "3    https://www.youtube.com/watch?v=2WZY9gRJfrw  \n",
       "4    https://www.youtube.com/watch?v=PnJBs44SpMo  \n",
       "..                                           ...  \n",
       "436  https://www.youtube.com/watch?v=pOOwt28gZYA  \n",
       "437  https://www.youtube.com/watch?v=3w4ljZZ0iIA  \n",
       "438  https://www.youtube.com/watch?v=Qw6Z4BbNbMc  \n",
       "439  https://www.youtube.com/watch?v=5wn5ponH2XI  \n",
       "440  https://www.youtube.com/watch?v=r-B4WCuI78c  \n",
       "\n",
       "[441 rows x 2 columns]"
      ]
     },
     "execution_count": 39,
     "metadata": {},
     "output_type": "execute_result"
    }
   ],
   "source": [
    "import pandas as pd\n",
    "df = pd.DataFrame(save_content)\n",
    "df"
   ]
  },
  {
   "cell_type": "code",
   "execution_count": 41,
   "metadata": {},
   "outputs": [],
   "source": [
    "df.to_csv('여자(아이돌).csv', index=None)"
   ]
  },
  {
   "cell_type": "code",
   "execution_count": 42,
   "metadata": {},
   "outputs": [
    {
     "data": {
      "text/html": [
       "<div>\n",
       "<style scoped>\n",
       "    .dataframe tbody tr th:only-of-type {\n",
       "        vertical-align: middle;\n",
       "    }\n",
       "\n",
       "    .dataframe tbody tr th {\n",
       "        vertical-align: top;\n",
       "    }\n",
       "\n",
       "    .dataframe thead th {\n",
       "        text-align: right;\n",
       "    }\n",
       "</style>\n",
       "<table border=\"1\" class=\"dataframe\">\n",
       "  <thead>\n",
       "    <tr style=\"text-align: right;\">\n",
       "      <th></th>\n",
       "      <th>title</th>\n",
       "      <th>link</th>\n",
       "    </tr>\n",
       "  </thead>\n",
       "  <tbody>\n",
       "    <tr>\n",
       "      <th>0</th>\n",
       "      <td>[#HASHTALK] EP.26 글로벌 앰버서더 미연의 나들이 😎 (ENG/CHN)...</td>\n",
       "      <td>https://www.youtube.com/watch?v=-RORM6aWoJw</td>\n",
       "    </tr>\n",
       "    <tr>\n",
       "      <th>1</th>\n",
       "      <td>(여자)아이들((G)I-DLE) - 2023 (G)I-DLE WORLD TOUR [...</td>\n",
       "      <td>https://www.youtube.com/watch?v=IQdDn_ktGww</td>\n",
       "    </tr>\n",
       "    <tr>\n",
       "      <th>2</th>\n",
       "      <td>💖 HAPPY MINNIE DAY 💖 (Feat. 퍼스널 컬러 &amp; 인생네컷 프레임 ...</td>\n",
       "      <td>https://www.youtube.com/watch?v=5RSIJdz9x_w</td>\n",
       "    </tr>\n",
       "    <tr>\n",
       "      <th>3</th>\n",
       "      <td>(여자)아이들((G)I-DLE) - 2023 (G)I-DLE WORLD TOUR [...</td>\n",
       "      <td>https://www.youtube.com/watch?v=2WZY9gRJfrw</td>\n",
       "    </tr>\n",
       "    <tr>\n",
       "      <th>4</th>\n",
       "      <td>(여자)아이들((G)I-DLE) - I-TALK #137 : 'I Want That...</td>\n",
       "      <td>https://www.youtube.com/watch?v=PnJBs44SpMo</td>\n",
       "    </tr>\n",
       "  </tbody>\n",
       "</table>\n",
       "</div>"
      ],
      "text/plain": [
       "                                               title  \\\n",
       "0  [#HASHTALK] EP.26 글로벌 앰버서더 미연의 나들이 😎 (ENG/CHN)...   \n",
       "1  (여자)아이들((G)I-DLE) - 2023 (G)I-DLE WORLD TOUR [...   \n",
       "2  💖 HAPPY MINNIE DAY 💖 (Feat. 퍼스널 컬러 & 인생네컷 프레임 ...   \n",
       "3  (여자)아이들((G)I-DLE) - 2023 (G)I-DLE WORLD TOUR [...   \n",
       "4  (여자)아이들((G)I-DLE) - I-TALK #137 : 'I Want That...   \n",
       "\n",
       "                                          link  \n",
       "0  https://www.youtube.com/watch?v=-RORM6aWoJw  \n",
       "1  https://www.youtube.com/watch?v=IQdDn_ktGww  \n",
       "2  https://www.youtube.com/watch?v=5RSIJdz9x_w  \n",
       "3  https://www.youtube.com/watch?v=2WZY9gRJfrw  \n",
       "4  https://www.youtube.com/watch?v=PnJBs44SpMo  "
      ]
     },
     "execution_count": 42,
     "metadata": {},
     "output_type": "execute_result"
    }
   ],
   "source": [
    "df.head()"
   ]
  },
  {
   "cell_type": "code",
   "execution_count": 1,
   "metadata": {},
   "outputs": [],
   "source": [
    "import json\n",
    "with open(\"save.json\", 'r', encoding='utf-8') as r:\n",
    "    save_contents = json.load(r)"
   ]
  },
  {
   "cell_type": "code",
   "execution_count": 45,
   "metadata": {},
   "outputs": [
    {
     "name": "stdout",
     "output_type": "stream",
     "text": [
      "Collecting pytube\n",
      "  Downloading pytube-15.0.0-py3-none-any.whl (57 kB)\n",
      "     ---------------------------------------- 0.0/57.6 kB ? eta -:--:--\n",
      "     ---------------------------------------- 57.6/57.6 kB 1.5 MB/s eta 0:00:00\n",
      "Installing collected packages: pytube\n",
      "Successfully installed pytube-15.0.0\n",
      "Note: you may need to restart the kernel to use updated packages.\n"
     ]
    }
   ],
   "source": [
    "%pip install pytube"
   ]
  },
  {
   "cell_type": "code",
   "execution_count": 2,
   "metadata": {},
   "outputs": [],
   "source": [
    "from pytube import YouTube\n",
    "\n",
    "def download_video(video_url):\n",
    "    yt = YouTube(video_url)\n",
    "    yt.streams.filter(adaptive=True, file_extension='mp4').first().download()"
   ]
  },
  {
   "cell_type": "code",
   "execution_count": 3,
   "metadata": {},
   "outputs": [],
   "source": [
    "from threading import Thread"
   ]
  },
  {
   "cell_type": "code",
   "execution_count": 4,
   "metadata": {},
   "outputs": [
    {
     "data": {
      "application/vnd.jupyter.widget-view+json": {
       "model_id": "70c88073e18f405d800ac2b3bafc0c82",
       "version_major": 2,
       "version_minor": 0
      },
      "text/plain": [
       "  0%|          | 0/5 [00:00<?, ?it/s]"
      ]
     },
     "metadata": {},
     "output_type": "display_data"
    },
    {
     "name": "stderr",
     "output_type": "stream",
     "text": [
      "Exception in thread Thread-5 (download_video):\n",
      "Traceback (most recent call last):\n",
      "  File \"c:\\Users\\D225\\AppData\\Local\\Programs\\Python\\Python310\\lib\\threading.py\", line 1016, in _bootstrap_inner\n",
      "    self.run()\n",
      "  File \"c:\\Users\\D225\\AppData\\Local\\Programs\\Python\\Python310\\lib\\threading.py\", line 953, in run\n",
      "    self._target(*self._args, **self._kwargs)\n",
      "  File \"C:\\Users\\D225\\AppData\\Local\\Temp\\ipykernel_7324\\1940474597.py\", line 5, in download_video\n",
      "  File \"c:\\Users\\D225\\AppData\\Local\\Programs\\Python\\Python310\\lib\\site-packages\\pytube\\__main__.py\", line 296, in streams\n",
      "    return StreamQuery(self.fmt_streams)\n",
      "  File \"c:\\Users\\D225\\AppData\\Local\\Programs\\Python\\Python310\\lib\\site-packages\\pytube\\__main__.py\", line 176, in fmt_streams\n",
      "    stream_manifest = extract.apply_descrambler(self.streaming_data)\n",
      "  File \"c:\\Users\\D225\\AppData\\Local\\Programs\\Python\\Python310\\lib\\site-packages\\pytube\\__main__.py\", line 160, in streaming_data\n",
      "    self.bypass_age_gate()\n",
      "  File \"c:\\Users\\D225\\AppData\\Local\\Programs\\Python\\Python310\\lib\\site-packages\\pytube\\__main__.py\", line 264, in bypass_age_gate\n",
      "    raise exceptions.AgeRestrictedError(self.video_id)\n",
      "pytube.exceptions.AgeRestrictedError: -RORM6aWoJw is age restricted, and can't be accessed without logging in.\n",
      "Exception in thread Thread-9 (download_video):\n",
      "Traceback (most recent call last):\n",
      "  File \"c:\\Users\\D225\\AppData\\Local\\Programs\\Python\\Python310\\lib\\threading.py\", line 1016, in _bootstrap_inner\n",
      "    self.run()\n",
      "  File \"c:\\Users\\D225\\AppData\\Local\\Programs\\Python\\Python310\\lib\\threading.py\", line 953, in run\n",
      "    self._target(*self._args, **self._kwargs)\n",
      "  File \"C:\\Users\\D225\\AppData\\Local\\Temp\\ipykernel_7324\\1940474597.py\", line 5, in download_video\n",
      "  File \"c:\\Users\\D225\\AppData\\Local\\Programs\\Python\\Python310\\lib\\site-packages\\pytube\\__main__.py\", line 296, in streams\n",
      "    return StreamQuery(self.fmt_streams)\n",
      "  File \"c:\\Users\\D225\\AppData\\Local\\Programs\\Python\\Python310\\lib\\site-packages\\pytube\\__main__.py\", line 176, in fmt_streams\n",
      "    stream_manifest = extract.apply_descrambler(self.streaming_data)\n",
      "  File \"c:\\Users\\D225\\AppData\\Local\\Programs\\Python\\Python310\\lib\\site-packages\\pytube\\__main__.py\", line 160, in streaming_data\n",
      "    self.bypass_age_gate()\n",
      "  File \"c:\\Users\\D225\\AppData\\Local\\Programs\\Python\\Python310\\lib\\site-packages\\pytube\\__main__.py\", line 264, in bypass_age_gate\n",
      "    raise exceptions.AgeRestrictedError(self.video_id)\n",
      "pytube.exceptions.AgeRestrictedError: PnJBs44SpMo is age restricted, and can't be accessed without logging in.\n"
     ]
    }
   ],
   "source": [
    "from tqdm.notebook import tqdm\n",
    "threads = []\n",
    "for content in save_contents[:5]:\n",
    "    link = content.get(\"link\")\n",
    "    thr = Thread(target=download_video, args=(link, ))\n",
    "    thr.start()\n",
    "    threads.append(thr)\n",
    "\n",
    "for thr in tqdm(threads):\n",
    "    thr.join()"
   ]
  },
  {
   "cell_type": "code",
   "execution_count": null,
   "metadata": {},
   "outputs": [],
   "source": []
  }
 ],
 "metadata": {
  "kernelspec": {
   "display_name": "Python 3",
   "language": "python",
   "name": "python3"
  },
  "language_info": {
   "codemirror_mode": {
    "name": "ipython",
    "version": 3
   },
   "file_extension": ".py",
   "mimetype": "text/x-python",
   "name": "python",
   "nbconvert_exporter": "python",
   "pygments_lexer": "ipython3",
   "version": "3.10.9"
  },
  "orig_nbformat": 4
 },
 "nbformat": 4,
 "nbformat_minor": 2
}
